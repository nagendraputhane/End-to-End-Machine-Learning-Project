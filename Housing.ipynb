{
  "nbformat": 4,
  "nbformat_minor": 0,
  "metadata": {
    "colab": {
      "name": "Housing.ipynb",
      "provenance": [],
      "include_colab_link": true
    },
    "kernelspec": {
      "name": "python3",
      "display_name": "Python 3"
    }
  },
  "cells": [
    {
      "cell_type": "markdown",
      "metadata": {
        "id": "view-in-github",
        "colab_type": "text"
      },
      "source": [
        "<a href=\"https://colab.research.google.com/github/nagendraputhane/End-to-End-Machine-Learning-Project/blob/master/Housing.ipynb\" target=\"_parent\"><img src=\"https://colab.research.google.com/assets/colab-badge.svg\" alt=\"Open In Colab\"/></a>"
      ]
    },
    {
      "cell_type": "markdown",
      "metadata": {
        "id": "ta2AjxQUWFW8",
        "colab_type": "text"
      },
      "source": [
        "# End-to-End Machine Learning Project"
      ]
    },
    {
      "cell_type": "markdown",
      "metadata": {
        "id": "dMOduW0HWsc_",
        "colab_type": "text"
      },
      "source": [
        "## Look at the Big Picture"
      ]
    },
    {
      "cell_type": "markdown",
      "metadata": {
        "id": "-7WFgh6OWynM",
        "colab_type": "text"
      },
      "source": [
        "**Task**: Use California census data to build a model of housing prices in the state.\n",
        "\n",
        "**Framing the Solution**: It is a Supervised Learning Task. It is a regression task.\n",
        "\n",
        "**Performance measure**: RMSE "
      ]
    },
    {
      "cell_type": "markdown",
      "metadata": {
        "id": "G1WoI6DmWUVE",
        "colab_type": "text"
      },
      "source": [
        "## Get the Data"
      ]
    },
    {
      "cell_type": "markdown",
      "metadata": {
        "id": "uzHxmTmEYBVY",
        "colab_type": "text"
      },
      "source": [
        "### Download the Data"
      ]
    },
    {
      "cell_type": "code",
      "metadata": {
        "id": "lm2HfrPnTd6Q",
        "colab_type": "code",
        "colab": {}
      },
      "source": [
        "import os\n",
        "import tarfile\n",
        "import urllib\n",
        "\n",
        "DOWNLOAD_ROOT = \"https://raw.githubusercontent.com/ageron/handson-ml2/master/\" #location of the file\n",
        "HOUSING_PATH = os.path.join(\"datasets\", \"housing\") #join the paths\n",
        "HOUSING_URL = DOWNLOAD_ROOT + \"datasets/housing/housing.tgz\"\n",
        "\n",
        "def fetch_housing_data(housing_url = HOUSING_URL, housing_path = HOUSING_PATH):\n",
        "  os.makedirs(housing_path, exist_ok = True) #create the path\n",
        "  tgz_path = os.path.join(housing_path, \"housing.tgz\") #join the paths intelligently\n",
        "  urllib.request.urlretrieve(housing_url, tgz_path) #copy file to tgz_path\n",
        "  housing_tgz = tarfile.open(tgz_path)\n",
        "  housing_tgz.extractall(path = housing_path)\n",
        "  housing_tgz.close()"
      ],
      "execution_count": 0,
      "outputs": []
    },
    {
      "cell_type": "code",
      "metadata": {
        "id": "ljSLCgyQa51U",
        "colab_type": "code",
        "colab": {}
      },
      "source": [
        "fetch_housing_data() #call the above function that create the directory, downloads the tgz file and extracts it"
      ],
      "execution_count": 0,
      "outputs": []
    }
  ]
}